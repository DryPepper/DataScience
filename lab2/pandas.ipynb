{
  "metadata": {
    "kernelspec": {
      "name": "python",
      "display_name": "Python (Pyodide)",
      "language": "python"
    },
    "language_info": {
      "codemirror_mode": {
        "name": "python",
        "version": 3
      },
      "file_extension": ".py",
      "mimetype": "text/x-python",
      "name": "python",
      "nbconvert_exporter": "python",
      "pygments_lexer": "ipython3",
      "version": "3.8"
    }
  },
  "nbformat_minor": 5,
  "nbformat": 4,
  "cells": [
    {
      "id": "64d44da9-558f-4634-9de8-de0f46f93cfe",
      "cell_type": "markdown",
      "source": "## Часть 1: Введение в Pandas\n\nPandas - это библиотека Python для работы с данными. Она предоставляет мощные инструменты для анализа и манипуляции данными.\n\n### Установка Pandas\n\nДля начала убедитесь, что у вас установлена библиотека Pandas. Если ее нет, установите ее с помощью команды:\n",
      "metadata": {}
    },
    {
      "id": "7484df51-b002-414c-ae42-75a2df57c78d",
      "cell_type": "code",
      "source": "!pip install pandas",
      "metadata": {},
      "outputs": [],
      "execution_count": null
    },
    {
      "id": "4b655e29-c3a5-4117-9860-2d6b9af62ac1",
      "cell_type": "markdown",
      "source": "## Импорт библиотеки\nДавайте начнем с импорта библиотеки Pandas:",
      "metadata": {}
    },
    {
      "id": "bfc3346f-3843-4aff-aec0-54321b9774f0",
      "cell_type": "code",
      "source": "import pandas as pd",
      "metadata": {
        "tags": [],
        "trusted": true
      },
      "outputs": [],
      "execution_count": null
    },
    {
      "id": "ea8530e9-c179-48c1-8043-ff87f415ee67",
      "cell_type": "markdown",
      "source": "## Часть 2: Работа с данными\n### Чтение данных\nМы будем использовать датасет Titanic. Давайте прочитаем данные из CSV файла.",
      "metadata": {}
    },
    {
      "id": "fa5deec6-c85e-4d88-89df-bea7d75fcbba",
      "cell_type": "code",
      "source": "# Чтение данных из файла 'titanic.csv'\nfile = pd.read_csv('titanic.csv')\nprint(file)",
      "metadata": {
        "trusted": true
      },
      "outputs": [
        {
          "name": "stdout",
          "text": "     PassengerId  Survived  Pclass  \\\n0              1         0       3   \n1              2         1       1   \n2              3         1       3   \n3              4         1       1   \n4              5         0       3   \n..           ...       ...     ...   \n886          887         0       2   \n887          888         1       1   \n888          889         0       3   \n889          890         1       1   \n890          891         0       3   \n\n                                                  Name     Sex   Age  SibSp  \\\n0                              Braund, Mr. Owen Harris    male  22.0      1   \n1    Cumings, Mrs. John Bradley (Florence Briggs Th...  female  38.0      1   \n2                               Heikkinen, Miss. Laina  female  26.0      0   \n3         Futrelle, Mrs. Jacques Heath (Lily May Peel)  female  35.0      1   \n4                             Allen, Mr. William Henry    male  35.0      0   \n..                                                 ...     ...   ...    ...   \n886                              Montvila, Rev. Juozas    male  27.0      0   \n887                       Graham, Miss. Margaret Edith  female  19.0      0   \n888           Johnston, Miss. Catherine Helen \"Carrie\"  female   NaN      1   \n889                              Behr, Mr. Karl Howell    male  26.0      0   \n890                                Dooley, Mr. Patrick    male  32.0      0   \n\n     Parch            Ticket     Fare Cabin Embarked  \n0        0         A/5 21171   7.2500   NaN        S  \n1        0          PC 17599  71.2833   C85        C  \n2        0  STON/O2. 3101282   7.9250   NaN        S  \n3        0            113803  53.1000  C123        S  \n4        0            373450   8.0500   NaN        S  \n..     ...               ...      ...   ...      ...  \n886      0            211536  13.0000   NaN        S  \n887      0            112053  30.0000   B42        S  \n888      2        W./C. 6607  23.4500   NaN        S  \n889      0            111369  30.0000  C148        C  \n890      0            370376   7.7500   NaN        Q  \n\n[891 rows x 12 columns]\n",
          "output_type": "stream"
        }
      ],
      "execution_count": 6
    },
    {
      "id": "07dfd488-4960-495e-80d8-9cf5903449b6",
      "cell_type": "markdown",
      "source": "### Предпросмотр данных\nДля первого ознакомления с данными давайте выведем первые несколько строк.",
      "metadata": {}
    },
    {
      "id": "216e104c-259f-4ecd-9cd4-40362f61ca4e",
      "cell_type": "code",
      "source": "# Вывод первых 5 строк данных\nfile = pd.read_csv('titanic.csv')\nprint(file.head())",
      "metadata": {
        "trusted": true
      },
      "outputs": [
        {
          "name": "stdout",
          "text": "   PassengerId  Survived  Pclass  \\\n0            1         0       3   \n1            2         1       1   \n2            3         1       3   \n3            4         1       1   \n4            5         0       3   \n\n                                                Name     Sex   Age  SibSp  \\\n0                            Braund, Mr. Owen Harris    male  22.0      1   \n1  Cumings, Mrs. John Bradley (Florence Briggs Th...  female  38.0      1   \n2                             Heikkinen, Miss. Laina  female  26.0      0   \n3       Futrelle, Mrs. Jacques Heath (Lily May Peel)  female  35.0      1   \n4                           Allen, Mr. William Henry    male  35.0      0   \n\n   Parch            Ticket     Fare Cabin Embarked  \n0      0         A/5 21171   7.2500   NaN        S  \n1      0          PC 17599  71.2833   C85        C  \n2      0  STON/O2. 3101282   7.9250   NaN        S  \n3      0            113803  53.1000  C123        S  \n4      0            373450   8.0500   NaN        S  \n",
          "output_type": "stream"
        }
      ],
      "execution_count": 7
    },
    {
      "id": "b7ba5f57-07e1-4c0f-9b55-9d78638ee2cc",
      "cell_type": "markdown",
      "source": "### Информация о данных\nЧтобы получить общую информацию о данных, воспользуйтесь методом .info().",
      "metadata": {}
    },
    {
      "id": "43650b4f-f3e7-4480-b874-b5552f564383",
      "cell_type": "code",
      "source": "file = pd.read_csv('titanic.csv')\nprint(file.info())",
      "metadata": {
        "trusted": true
      },
      "outputs": [
        {
          "name": "stdout",
          "text": "<class 'pandas.core.frame.DataFrame'>\nRangeIndex: 891 entries, 0 to 890\nData columns (total 12 columns):\n #   Column       Non-Null Count  Dtype  \n---  ------       --------------  -----  \n 0   PassengerId  891 non-null    int64  \n 1   Survived     891 non-null    int64  \n 2   Pclass       891 non-null    int64  \n 3   Name         891 non-null    object \n 4   Sex          891 non-null    object \n 5   Age          714 non-null    float64\n 6   SibSp        891 non-null    int64  \n 7   Parch        891 non-null    int64  \n 8   Ticket       891 non-null    object \n 9   Fare         891 non-null    float64\n 10  Cabin        204 non-null    object \n 11  Embarked     889 non-null    object \ndtypes: float64(2), int64(5), object(5)\nmemory usage: 66.2+ KB\nNone\n",
          "output_type": "stream"
        }
      ],
      "execution_count": 8
    },
    {
      "id": "a6857118-a82e-4586-a933-4eb0df9cb74e",
      "cell_type": "markdown",
      "source": "### Работа с NaN\nЧасто данные содержат пропущенные значения, которые представляются как NaN (Not a Number). Pandas предоставляет удобные методы для работы с ними.\n\nПроверка на наличие NaN. Методы fillna и dropna возвращают новые Dataframe, проверьте нет ли в них NaN",
      "metadata": {}
    },
    {
      "id": "f7910fde-24f7-4cf8-991d-01f08bc45b63",
      "cell_type": "code",
      "source": "# Проверка на наличие NaN в DataFrame\nfile = pd.read_csv('titanic.csv')\nprint(file.isna().sum())",
      "metadata": {
        "tags": [],
        "trusted": true
      },
      "outputs": [
        {
          "name": "stdout",
          "text": "PassengerId      0\nSurvived         0\nPclass           0\nName             0\nSex              0\nAge            177\nSibSp            0\nParch            0\nTicket           0\nFare             0\nCabin          687\nEmbarked         2\ndtype: int64\n",
          "output_type": "stream"
        }
      ],
      "execution_count": 9
    },
    {
      "id": "1dadeaf7-e214-4552-b054-8e4a03714f72",
      "cell_type": "markdown",
      "source": "Заполнение NaN",
      "metadata": {}
    },
    {
      "id": "7d901187-75a9-497e-8774-6e0dde584197",
      "cell_type": "code",
      "source": "# Заполнение NaN определенным значением (например, нулем)\nfile = pd.read_csv('titanic.csv')\nprint(file.fillna(0))",
      "metadata": {
        "trusted": true
      },
      "outputs": [
        {
          "name": "stdout",
          "text": "     PassengerId  Survived  Pclass  \\\n0              1         0       3   \n1              2         1       1   \n2              3         1       3   \n3              4         1       1   \n4              5         0       3   \n..           ...       ...     ...   \n886          887         0       2   \n887          888         1       1   \n888          889         0       3   \n889          890         1       1   \n890          891         0       3   \n\n                                                  Name     Sex   Age  SibSp  \\\n0                              Braund, Mr. Owen Harris    male  22.0      1   \n1    Cumings, Mrs. John Bradley (Florence Briggs Th...  female  38.0      1   \n2                               Heikkinen, Miss. Laina  female  26.0      0   \n3         Futrelle, Mrs. Jacques Heath (Lily May Peel)  female  35.0      1   \n4                             Allen, Mr. William Henry    male  35.0      0   \n..                                                 ...     ...   ...    ...   \n886                              Montvila, Rev. Juozas    male  27.0      0   \n887                       Graham, Miss. Margaret Edith  female  19.0      0   \n888           Johnston, Miss. Catherine Helen \"Carrie\"  female   0.0      1   \n889                              Behr, Mr. Karl Howell    male  26.0      0   \n890                                Dooley, Mr. Patrick    male  32.0      0   \n\n     Parch            Ticket     Fare Cabin Embarked  \n0        0         A/5 21171   7.2500     0        S  \n1        0          PC 17599  71.2833   C85        C  \n2        0  STON/O2. 3101282   7.9250     0        S  \n3        0            113803  53.1000  C123        S  \n4        0            373450   8.0500     0        S  \n..     ...               ...      ...   ...      ...  \n886      0            211536  13.0000     0        S  \n887      0            112053  30.0000   B42        S  \n888      2        W./C. 6607  23.4500     0        S  \n889      0            111369  30.0000  C148        C  \n890      0            370376   7.7500     0        Q  \n\n[891 rows x 12 columns]\n",
          "output_type": "stream"
        }
      ],
      "execution_count": 10
    },
    {
      "id": "6f32fddb-ec60-456b-8958-5c81b0357d49",
      "cell_type": "markdown",
      "source": "Удаление строк с NaN",
      "metadata": {}
    },
    {
      "id": "4d188deb-0818-4b01-b3a5-9d20d2166d10",
      "cell_type": "code",
      "source": "# Удаление строк, содержащих NaN\nfile = pd.read_csv('titanic.csv')\nprint(file.dropna())",
      "metadata": {
        "tags": [],
        "trusted": true
      },
      "outputs": [
        {
          "name": "stdout",
          "text": "     PassengerId  Survived  Pclass  \\\n1              2         1       1   \n3              4         1       1   \n6              7         0       1   \n10            11         1       3   \n11            12         1       1   \n..           ...       ...     ...   \n871          872         1       1   \n872          873         0       1   \n879          880         1       1   \n887          888         1       1   \n889          890         1       1   \n\n                                                  Name     Sex   Age  SibSp  \\\n1    Cumings, Mrs. John Bradley (Florence Briggs Th...  female  38.0      1   \n3         Futrelle, Mrs. Jacques Heath (Lily May Peel)  female  35.0      1   \n6                              McCarthy, Mr. Timothy J    male  54.0      0   \n10                     Sandstrom, Miss. Marguerite Rut  female   4.0      1   \n11                            Bonnell, Miss. Elizabeth  female  58.0      0   \n..                                                 ...     ...   ...    ...   \n871   Beckwith, Mrs. Richard Leonard (Sallie Monypeny)  female  47.0      1   \n872                           Carlsson, Mr. Frans Olof    male  33.0      0   \n879      Potter, Mrs. Thomas Jr (Lily Alexenia Wilson)  female  56.0      0   \n887                       Graham, Miss. Margaret Edith  female  19.0      0   \n889                              Behr, Mr. Karl Howell    male  26.0      0   \n\n     Parch    Ticket     Fare        Cabin Embarked  \n1        0  PC 17599  71.2833          C85        C  \n3        0    113803  53.1000         C123        S  \n6        0     17463  51.8625          E46        S  \n10       1   PP 9549  16.7000           G6        S  \n11       0    113783  26.5500         C103        S  \n..     ...       ...      ...          ...      ...  \n871      1     11751  52.5542          D35        S  \n872      0       695   5.0000  B51 B53 B55        S  \n879      1     11767  83.1583          C50        C  \n887      0    112053  30.0000          B42        S  \n889      0    111369  30.0000         C148        C  \n\n[183 rows x 12 columns]\n",
          "output_type": "stream"
        }
      ],
      "execution_count": 11
    },
    {
      "id": "7a4ff131-1593-4cd2-b2bc-e0ddb2442d3b",
      "cell_type": "markdown",
      "source": "## Часть 3: Обработка DataFrame\n### Выбор данных\nPandas позволяет выбирать данные по индексам, меткам столбцов и условиям.",
      "metadata": {}
    },
    {
      "id": "d11f6114-ce4b-4e71-afec-adf1d8c1ec6e",
      "cell_type": "code",
      "source": "# Выбор столбца по метке\n# Используйте синтаксис DataFrame['название_столбца']\n# write your code here\nfile = pd.read_csv('titanic.csv')\nprint(file['PassengerId'])\n\n# Выбор нескольких столбцов\n# Используйте синтаксис DataFrame[['столбец_1', 'столбец_2']]\n# write your code here\nprint(file[['PassengerId', 'Survived']])\n\n# Выбор строк по индексу\n# Используйте метод .loc[]\n# write your code here\nprint(file.loc[500])\n\n# Выбор строк и столбцов по условию\n# Используя логические операции, выберите мужчин старше 30\n# write your code here\nprint(file[(file['Sex'] == 'male') & (file['Age'] > 30)])",
      "metadata": {
        "tags": [],
        "trusted": true
      },
      "outputs": [
        {
          "name": "stdout",
          "text": "0        1\n1        2\n2        3\n3        4\n4        5\n      ... \n886    887\n887    888\n888    889\n889    890\n890    891\nName: PassengerId, Length: 891, dtype: int64\n     PassengerId  Survived\n0              1         0\n1              2         1\n2              3         1\n3              4         1\n4              5         0\n..           ...       ...\n886          887         0\n887          888         1\n888          889         0\n889          890         1\n890          891         0\n\n[891 rows x 2 columns]\nPassengerId                 501\nSurvived                      0\nPclass                        3\nName           Calic, Mr. Petar\nSex                        male\nAge                        17.0\nSibSp                         0\nParch                         0\nTicket                   315086\nFare                     8.6625\nCabin                       NaN\nEmbarked                      S\nName: 500, dtype: object\n     PassengerId  Survived  Pclass                                  Name  \\\n4              5         0       3              Allen, Mr. William Henry   \n6              7         0       1               McCarthy, Mr. Timothy J   \n13            14         0       3           Andersson, Mr. Anders Johan   \n20            21         0       2                  Fynney, Mr. Joseph J   \n21            22         1       2                 Beesley, Mr. Lawrence   \n..           ...       ...     ...                                   ...   \n867          868         0       1  Roebling, Mr. Washington Augustus II   \n872          873         0       1              Carlsson, Mr. Frans Olof   \n873          874         0       3           Vander Cruyssen, Mr. Victor   \n881          882         0       3                    Markun, Mr. Johann   \n890          891         0       3                   Dooley, Mr. Patrick   \n\n      Sex   Age  SibSp  Parch    Ticket     Fare        Cabin Embarked  \n4    male  35.0      0      0    373450   8.0500          NaN        S  \n6    male  54.0      0      0     17463  51.8625          E46        S  \n13   male  39.0      1      5    347082  31.2750          NaN        S  \n20   male  35.0      0      0    239865  26.0000          NaN        S  \n21   male  34.0      0      0    248698  13.0000          D56        S  \n..    ...   ...    ...    ...       ...      ...          ...      ...  \n867  male  31.0      0      0  PC 17590  50.4958          A24        S  \n872  male  33.0      0      0       695   5.0000  B51 B53 B55        S  \n873  male  47.0      0      0    345765   9.0000          NaN        S  \n881  male  33.0      0      0    349257   7.8958          NaN        S  \n890  male  32.0      0      0    370376   7.7500          NaN        Q  \n\n[202 rows x 12 columns]\n",
          "output_type": "stream"
        }
      ],
      "execution_count": 12
    },
    {
      "id": "f3102de8-d2fd-4593-bf26-721316ae51e9",
      "cell_type": "markdown",
      "source": "### Сортировка данных\nСортировка данных по значениям столбцов.",
      "metadata": {}
    },
    {
      "id": "de5e850c-e920-4ae4-aadb-3f1953438b09",
      "cell_type": "code",
      "source": "# Сортировка данных по столбцу 'столбец_1' по возрастанию\n# Используйте метод .sort_values()\n# write your code here\nfile = pd.read_csv('titanic.csv')\nprint(file.sort_values('Fare'))",
      "metadata": {
        "tags": [],
        "trusted": true
      },
      "outputs": [
        {
          "name": "stdout",
          "text": "     PassengerId  Survived  Pclass                                Name  \\\n271          272         1       3        Tornquist, Mr. William Henry   \n597          598         0       3                 Johnson, Mr. Alfred   \n302          303         0       3     Johnson, Mr. William Cahoone Jr   \n633          634         0       1       Parr, Mr. William Henry Marsh   \n277          278         0       2         Parkes, Mr. Francis \"Frank\"   \n..           ...       ...     ...                                 ...   \n438          439         0       1                   Fortune, Mr. Mark   \n341          342         1       1      Fortune, Miss. Alice Elizabeth   \n737          738         1       1              Lesurer, Mr. Gustave J   \n258          259         1       1                    Ward, Miss. Anna   \n679          680         1       1  Cardeza, Mr. Thomas Drake Martinez   \n\n        Sex   Age  SibSp  Parch    Ticket      Fare        Cabin Embarked  \n271    male  25.0      0      0      LINE    0.0000          NaN        S  \n597    male  49.0      0      0      LINE    0.0000          NaN        S  \n302    male  19.0      0      0      LINE    0.0000          NaN        S  \n633    male   NaN      0      0    112052    0.0000          NaN        S  \n277    male   NaN      0      0    239853    0.0000          NaN        S  \n..      ...   ...    ...    ...       ...       ...          ...      ...  \n438    male  64.0      1      4     19950  263.0000  C23 C25 C27        S  \n341  female  24.0      3      2     19950  263.0000  C23 C25 C27        S  \n737    male  35.0      0      0  PC 17755  512.3292         B101        C  \n258  female  35.0      0      0  PC 17755  512.3292          NaN        C  \n679    male  36.0      0      1  PC 17755  512.3292  B51 B53 B55        C  \n\n[891 rows x 12 columns]\n",
          "output_type": "stream"
        }
      ],
      "execution_count": 13
    },
    {
      "id": "eab3cd85-5e96-4228-8834-9ef53b93689a",
      "cell_type": "markdown",
      "source": "### Группировка данных\nPandas также позволяет группировать данные и выполнять агрегирующие операции.",
      "metadata": {}
    },
    {
      "id": "25ced901-0482-49a8-8c12-d192e84e3fb3",
      "cell_type": "code",
      "source": "# Найдите долю выживших среди всех PClass\n# Используйте метод .groupby()\n# write your code here\nfile = pd.read_csv('titanic.csv')\nprint(file.groupby('Pclass')['Survived'].mean())",
      "metadata": {
        "tags": [],
        "trusted": true
      },
      "outputs": [
        {
          "name": "stdout",
          "text": "Pclass\n1    0.629630\n2    0.472826\n3    0.242363\nName: Survived, dtype: float64\n",
          "output_type": "stream"
        }
      ],
      "execution_count": 14
    },
    {
      "id": "d0355db7-7bf9-46d1-ad51-5f2eddc42501",
      "cell_type": "markdown",
      "source": "## Часть 4: Задания для практики\nПрочитайте данные из файла 'titanic.csv'.\nПроверьте, есть ли пропущенные значения в данных и заполните их нулями.\nВыведите первые 10 строк данных.\nВыберите только те строки, где значение в столбце 'Age' больше 30.\nОтсортируйте данные по столбцу 'Fare' в порядке убывания.\nСгруппируйте данные по столбцу 'Pclass' и вычислите средний возраст ('Age') для каждого класса.",
      "metadata": {}
    },
    {
      "id": "a1b4deaa-cd06-41b3-8084-5c2d3a867811",
      "cell_type": "code",
      "source": "import pandas as pd\n\nfile = pd.read_csv('titanic.csv')\nfile = file.fillna(0)\nprint('Первые 10 строк данных')\nprint(file.head(10))\nprint('Только те строки, где значение в столбце \\'Age\\' больше 30')\nprint([file['Age'] > 30])\nprint('Данные по столбцу \\'Fare\\' в порядке убывания')\nprint(file.sort_values('Fare', ascending=False))\nprint('Сгруппированные данные по столбцу \\'Pclass\\' и вычисленный средний возраст для каждого класса')\nprint(file.groupby('Pclass')['Age'].mean())",
      "metadata": {
        "trusted": true
      },
      "outputs": [
        {
          "name": "stdout",
          "text": "Первые 10 строк данных\n   PassengerId  Survived  Pclass  \\\n0            1         0       3   \n1            2         1       1   \n2            3         1       3   \n3            4         1       1   \n4            5         0       3   \n5            6         0       3   \n6            7         0       1   \n7            8         0       3   \n8            9         1       3   \n9           10         1       2   \n\n                                                Name     Sex   Age  SibSp  \\\n0                            Braund, Mr. Owen Harris    male  22.0      1   \n1  Cumings, Mrs. John Bradley (Florence Briggs Th...  female  38.0      1   \n2                             Heikkinen, Miss. Laina  female  26.0      0   \n3       Futrelle, Mrs. Jacques Heath (Lily May Peel)  female  35.0      1   \n4                           Allen, Mr. William Henry    male  35.0      0   \n5                                   Moran, Mr. James    male   0.0      0   \n6                            McCarthy, Mr. Timothy J    male  54.0      0   \n7                     Palsson, Master. Gosta Leonard    male   2.0      3   \n8  Johnson, Mrs. Oscar W (Elisabeth Vilhelmina Berg)  female  27.0      0   \n9                Nasser, Mrs. Nicholas (Adele Achem)  female  14.0      1   \n\n   Parch            Ticket     Fare Cabin Embarked  \n0      0         A/5 21171   7.2500     0        S  \n1      0          PC 17599  71.2833   C85        C  \n2      0  STON/O2. 3101282   7.9250     0        S  \n3      0            113803  53.1000  C123        S  \n4      0            373450   8.0500     0        S  \n5      0            330877   8.4583     0        Q  \n6      0             17463  51.8625   E46        S  \n7      1            349909  21.0750     0        S  \n8      2            347742  11.1333     0        S  \n9      0            237736  30.0708     0        C  \nТолько те строки, где значение в столбце 'Age' больше 30\n[0      False\n1       True\n2      False\n3       True\n4       True\n       ...  \n886    False\n887    False\n888    False\n889    False\n890     True\nName: Age, Length: 891, dtype: bool]\nДанные по столбцу 'Fare' в порядке убывания\n     PassengerId  Survived  Pclass                                Name  \\\n258          259         1       1                    Ward, Miss. Anna   \n737          738         1       1              Lesurer, Mr. Gustave J   \n679          680         1       1  Cardeza, Mr. Thomas Drake Martinez   \n88            89         1       1          Fortune, Miss. Mabel Helen   \n27            28         0       1      Fortune, Mr. Charles Alexander   \n..           ...       ...     ...                                 ...   \n633          634         0       1       Parr, Mr. William Henry Marsh   \n413          414         0       2      Cunningham, Mr. Alfred Fleming   \n822          823         0       1     Reuchlin, Jonkheer. John George   \n732          733         0       2                Knight, Mr. Robert J   \n674          675         0       2          Watson, Mr. Ennis Hastings   \n\n        Sex   Age  SibSp  Parch    Ticket      Fare        Cabin Embarked  \n258  female  35.0      0      0  PC 17755  512.3292            0        C  \n737    male  35.0      0      0  PC 17755  512.3292         B101        C  \n679    male  36.0      0      1  PC 17755  512.3292  B51 B53 B55        C  \n88   female  23.0      3      2     19950  263.0000  C23 C25 C27        S  \n27     male  19.0      3      2     19950  263.0000  C23 C25 C27        S  \n..      ...   ...    ...    ...       ...       ...          ...      ...  \n633    male   0.0      0      0    112052    0.0000            0        S  \n413    male   0.0      0      0    239853    0.0000            0        S  \n822    male  38.0      0      0     19972    0.0000            0        S  \n732    male   0.0      0      0    239855    0.0000            0        S  \n674    male   0.0      0      0    239856    0.0000            0        S  \n\n[891 rows x 12 columns]\nСгруппированные данные по столбцу 'Pclass' и вычисленный средний возраст для каждого класса\nPclass\n1    32.923241\n2    28.091467\n3    18.177026\nName: Age, dtype: float64\n",
          "output_type": "stream"
        }
      ],
      "execution_count": 15
    }
  ]
}