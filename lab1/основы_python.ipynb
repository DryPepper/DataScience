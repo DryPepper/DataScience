{
  "cells": [
    {
      "cell_type": "markdown",
      "metadata": {
        "id": "M-DGa20PaHnu"
      },
      "source": [
        "#Задача 1\n",
        "Написать функцию на вход которой подается строка, состоящая из латинских букв.\n",
        "Функция должна вернуть количество гласных букв (a, e, i, o, u) в этой строке. Написать тесты для кода"
      ]
    },
    {
      "cell_type": "code",
      "execution_count": 3,
      "metadata": {
        "id": "XvX8X_JJ6PCb"
      },
      "outputs": [
        {
          "name": "stdout",
          "output_type": "stream",
          "text": [
            "Результат теста 1: 5, Ожидаемый: 5, Пройден\n",
            "Результат теста 1: 1, Ожидаемый: 1, Пройден\n",
            "Результат теста 1: 3, Ожидаемый: 3, Пройден\n"
          ]
        }
      ],
      "source": [
        "def func(str):\n",
        "    return (str.count('a')\n",
        "          + str.count('e')\n",
        "          + str.count('i')\n",
        "          + str.count('o')\n",
        "          + str.count('u'))\n",
        "\n",
        "# Тест 1: \"aeiou\"\n",
        "result = func(\"aeiou\")\n",
        "expected = 5\n",
        "print(f\"Результат теста 1: {result}, \"\n",
        "      f\"Ожидаемый: {expected}, \"\n",
        "      f\"{'Пройден' if result == expected else 'Не пройден'}\")\n",
        "\n",
        "# Тест 2: \"qwerty\"\n",
        "result = func(\"qwerty\")\n",
        "expected = 1\n",
        "print(f\"Результат теста 1: {result}, \"\n",
        "      f\"Ожидаемый: {expected}, \"\n",
        "      f\"{'Пройден' if result == expected else 'Не пройден'}\")\n",
        "\n",
        "# Тест 3: \"Hello, World!\"\n",
        "result = func(\"Hello, World!\")\n",
        "expected = 3\n",
        "print(f\"Результат теста 1: {result}, \"\n",
        "      f\"Ожидаемый: {expected}, \"\n",
        "      f\"{'Пройден' if result == expected else 'Не пройден'}\")"
      ]
    },
    {
      "cell_type": "markdown",
      "metadata": {
        "id": "t2ClV_Y0bbr6"
      },
      "source": [
        "# Задача 2\n",
        "Написать функцию на вход, которой подается строка. Функция должна вернуть true, если\n",
        "каждый символ в строке встречается только 1 раз, иначе должна вернуть false. Написать тесты для кода"
      ]
    },
    {
      "cell_type": "code",
      "execution_count": 4,
      "metadata": {
        "id": "FppbECao6VIz"
      },
      "outputs": [
        {
          "name": "stdout",
          "output_type": "stream",
          "text": [
            "Результат теста 1: True, Ожидаемый: True, Пройден\n",
            "Результат теста 1: False, Ожидаемый: False, Пройден\n",
            "Результат теста 1: False, Ожидаемый: False, Пройден\n"
          ]
        }
      ],
      "source": [
        "def func(str):\n",
        "    dict = {}\n",
        "    for symbol in str:\n",
        "        if symbol in dict:\n",
        "            return False\n",
        "        else:\n",
        "            dict[symbol] = \"check\"\n",
        "    return True\n",
        "\n",
        "# Тест 1: \"abcdefg\"\n",
        "result = func(\"abcdefg\")\n",
        "expected = True\n",
        "print(f\"Результат теста 1: {result}, \"\n",
        "      f\"Ожидаемый: {expected}, \"\n",
        "      f\"{'Пройден' if result == expected else 'Не пройден'}\")\n",
        "\n",
        "# Тест 2: \"No repeats :)\"\n",
        "result = func(\"No repeats :)\")\n",
        "expected = False\n",
        "print(f\"Результат теста 1: {result}, \"\n",
        "      f\"Ожидаемый: {expected}, \"\n",
        "      f\"{'Пройден' if result == expected else 'Не пройден'}\")\n",
        "\n",
        "# Тест 3: \" space \"\n",
        "result = func(\" space \")\n",
        "expected = False\n",
        "print(f\"Результат теста 1: {result}, \"\n",
        "      f\"Ожидаемый: {expected}, \"\n",
        "      f\"{'Пройден' if result == expected else 'Не пройден'}\")"
      ]
    },
    {
      "cell_type": "markdown",
      "metadata": {
        "id": "udRiIK1cdt6E"
      },
      "source": [
        "# Задача 3\n",
        "Написать функцию, которая принимает положительное число и возвращает количество\n",
        "бит равных 1 в этом числе. Написать тесты для кода"
      ]
    },
    {
      "cell_type": "code",
      "execution_count": 1,
      "metadata": {
        "id": "6tkfDJRz6dp_"
      },
      "outputs": [
        {
          "name": "stdout",
          "output_type": "stream",
          "text": [
            "Результат теста 1: 1, Ожидаемый: 1, Пройден\n",
            "Результат теста 1: 4, Ожидаемый: 4, Пройден\n",
            "Результат теста 1: 8, Ожидаемый: 8, Пройден\n"
          ]
        }
      ],
      "source": [
        "def func(number):\n",
        "    return bin(number).count('1')\n",
        "\n",
        "# Тест 1: 1\n",
        "result = func(1)\n",
        "expected = 1\n",
        "print(f\"Результат теста 1: {result}, \"\n",
        "      f\"Ожидаемый: {expected}, \"\n",
        "      f\"{'Пройден' if result == expected else 'Не пройден'}\")\n",
        "\n",
        "# Тест 2: 101\n",
        "result = func(101)\n",
        "expected = 4\n",
        "print(f\"Результат теста 1: {result}, \"\n",
        "      f\"Ожидаемый: {expected}, \"\n",
        "      f\"{'Пройден' if result == expected else 'Не пройден'}\")\n",
        "\n",
        "# Тест 3: 999\n",
        "result = func(999)\n",
        "expected = 8\n",
        "print(f\"Результат теста 1: {result}, \"\n",
        "      f\"Ожидаемый: {expected}, \"\n",
        "      f\"{'Пройден' if result == expected else 'Не пройден'}\")"
      ]
    },
    {
      "cell_type": "markdown",
      "metadata": {
        "id": "26dDUz-Ae17N"
      },
      "source": [
        "# Задача 4\n",
        "Написать функцию, которая принимает положительное число. Функция должна вернуть то,\n",
        "сколько раз необходимо перемножать цифры числа или результат перемножения, чтобы\n",
        "получилось число состоящее из одной цифры.\n",
        "Например, для входного числа:\n",
        "· 39 функция должна вернуть 3, так как 3*9=27 => 2*7=14 => 1*4=4\n",
        "· 4 функция должна вернуть 0, так как число уже состоит из одной цифры\n",
        "· 999 функция должна вернуть 4, так как 9*9*9=729 => 7*2*9=126 => 1*2*6=12 =>\n",
        "1*2=2. Написать тесты для кода"
      ]
    },
    {
      "cell_type": "code",
      "execution_count": null,
      "metadata": {
        "id": "BH1A_Mgi6i4G"
      },
      "outputs": [],
      "source": [
        "def magic(n):\n",
        "    counter = 0\n",
        "    while len(str(n)) > 1:\n",
        "        result = 1\n",
        "        for digit in str(n):\n",
        "            result = result * int(digit)\n",
        "        n = result\n",
        "        counter += 1\n",
        "    return counter\n",
        "\n",
        "# Тест 1: 39\n",
        "result = magic(39)\n",
        "expected = 3\n",
        "print(f\"Результат теста 1: {result}, \"\n",
        "      f\"Ожидаемый: {expected}, \"\n",
        "      f\"{'Пройден' if result == expected else 'Не пройден'}\")\n",
        "\n",
        "# Тест 2: 4\n",
        "result = magic(4)\n",
        "expected = 0\n",
        "print(f\"Результат теста 1: {result}, \"\n",
        "      f\"Ожидаемый: {expected}, \"\n",
        "      f\"{'Пройден' if result == expected else 'Не пройден'}\")\n",
        "\n",
        "# Тест 3: 999\n",
        "result = magic(999)\n",
        "expected = 4\n",
        "print(f\"Результат теста 1: {result}, \"\n",
        "      f\"Ожидаемый: {expected}, \"\n",
        "      f\"{'Пройден' if result == expected else 'Не пройден'}\")"
      ]
    },
    {
      "cell_type": "markdown",
      "metadata": {
        "id": "0nS-kIa8g8vd"
      },
      "source": [
        "# Задача 5\n",
        "Написать функцию, которая принимает два целочисленных вектора одинаковой длины и\n",
        "возвращает среднеквадратическое отклонение двух векторов. Написать тесты для кода"
      ]
    },
    {
      "cell_type": "code",
      "execution_count": null,
      "metadata": {
        "id": "8iphx4LM6xbx"
      },
      "outputs": [],
      "source": [
        "def mse(pred, true):\n",
        "    if len(pred) != len(true):\n",
        "        raise ValueError(\"Векторы должны быть одинаковой длины\")\n",
        "    result = 0\n",
        "    for a, b in zip(pred, true):\n",
        "        result += (a - b) ** 2\n",
        "    result = result / len(pred)\n",
        "    return result\n",
        "\n",
        "# Тест 1\n",
        "result = mse([1, 1, 1], [1, 1, 1])\n",
        "expected = 0\n",
        "print(f\"Результат теста 1: {result}, \"\n",
        "      f\"Ожидаемый: {expected}, \"\n",
        "      f\"{'Пройден' if result == expected else 'Не пройден'}\")\n",
        "\n",
        "# Тест 2\n",
        "result = mse([1, 1, 1], [3, 3, 3])\n",
        "expected = 4\n",
        "print(f\"Результат теста 1: {result}, \"\n",
        "      f\"Ожидаемый: {expected}, \"\n",
        "      f\"{'Пройден' if result == expected else 'Не пройден'}\")\n",
        "\n",
        "# Тест 3\n",
        "result = mse([1, 3, 5], [2, 4, 6])\n",
        "expected = 1\n",
        "print(f\"Результат теста 1: {result}, \"\n",
        "      f\"Ожидаемый: {expected}, \"\n",
        "      f\"{'Пройден' if result == expected else 'Не пройден'}\")"
      ]
    },
    {
      "cell_type": "markdown",
      "metadata": {
        "id": "vpIPKL439zkw"
      },
      "source": [
        "# Задача 6\n",
        "Написать функцию, принимающая целое положительное число. Функция должна вернуть\n",
        "строку вида “(n1**p1)(n2**p2)…(nk**pk)” представляющая разложение числа на простые\n",
        "множители (если pi == 1, то выводить только ni).\n",
        "Например, для числа 86240 функция должна вернуть “(2**5)(5)(7**2)(11)”. Написать тесты для кода"
      ]
    },
    {
      "cell_type": "code",
      "execution_count": null,
      "metadata": {
        "id": "pFebmcZk94Jw"
      },
      "outputs": [],
      "source": [
        "def func(number):\n",
        "    factors = []\n",
        "    a = 2\n",
        "    while a * a <= number:\n",
        "        counter = 0\n",
        "        while (number % a) == 0:\n",
        "            number //= a\n",
        "            counter += 1\n",
        "        if counter > 0:\n",
        "            if counter == 1:\n",
        "                factors.append(f\"({a})\")\n",
        "            else:\n",
        "                factors.append(f\"({a}**{counter})\")\n",
        "        a += 1\n",
        "    if number > 1:\n",
        "        factors.append(f\"({number})\")\n",
        "    return ''.join(factors)\n",
        "\n",
        "# Тест 1: 86240\n",
        "result = func(86240)\n",
        "expected = \"(2**5)(5)(7**2)(11)\"\n",
        "print(f\"Результат теста 1: {result}, \"\n",
        "      f\"Ожидаемый: {expected}, \"\n",
        "      f\"{'Пройден' if result == expected else 'Не пройден'}\")\n",
        "\n",
        "# Тест 2: 5\n",
        "result = func(5)\n",
        "expected = \"(5)\"\n",
        "print(f\"Результат теста 1: {result}, \"\n",
        "      f\"Ожидаемый: {expected}, \"\n",
        "      f\"{'Пройден' if result == expected else 'Не пройден'}\")\n",
        "\n",
        "# Тест 3: 500\n",
        "result = func(500)\n",
        "expected = \"(2**2)(5**3)\"\n",
        "print(f\"Результат теста 1: {result}, \"\n",
        "      f\"Ожидаемый: {expected}, \"\n",
        "      f\"{'Пройден' if result == expected else 'Не пройден'}\")"
      ]
    },
    {
      "cell_type": "markdown",
      "metadata": {
        "id": "ps2s0BudX7A2"
      },
      "source": [
        "# Задача 7\n",
        "Написать функцию, принимающая целое число n, задающее количество кубиков. Функция\n",
        "должна определить, можно ли из данного кол-ва кубиков построить пирамиду, то есть\n",
        "можно ли представить число n как 1^2+2^2+3^2+…+k^2. Если можно, то функция должна\n",
        "вернуть k, иначе строку “It is impossible”. Написать тесты для кода"
      ]
    },
    {
      "cell_type": "code",
      "execution_count": 3,
      "metadata": {
        "id": "3YPjEXxhX_YT"
      },
      "outputs": [
        {
          "name": "stdout",
          "output_type": "stream",
          "text": [
            "Результат теста 1: 2, Ожидаемый: 2, Пройден\n",
            "Результат теста 1: It is impossible, Ожидаемый: It is impossible, Пройден\n",
            "Результат теста 1: 3, Ожидаемый: 3, Пройден\n"
          ]
        }
      ],
      "source": [
        "def pyramid(number):\n",
        "    prev = 0\n",
        "    k = 1\n",
        "    while prev + k*k < number:\n",
        "        prev = prev + k*k\n",
        "        k += 1\n",
        "    if prev + k*k == number:\n",
        "        return k\n",
        "    else:\n",
        "        return \"It is impossible\"\n",
        "\n",
        "# Тест 1: 10\n",
        "result = pyramid(5)\n",
        "expected = 2\n",
        "print(f\"Результат теста 1: {result}, \"\n",
        "      f\"Ожидаемый: {expected}, \"\n",
        "      f\"{'Пройден' if result == expected else 'Не пройден'}\")\n",
        "\n",
        "# Тест 2: 9\n",
        "result = pyramid(9)\n",
        "expected = \"It is impossible\"\n",
        "print(f\"Результат теста 1: {result}, \"\n",
        "      f\"Ожидаемый: {expected}, \"\n",
        "      f\"{'Пройден' if result == expected else 'Не пройден'}\")\n",
        "\n",
        "# Тест 3: 14\n",
        "result = pyramid(14)\n",
        "expected = 3\n",
        "print(f\"Результат теста 1: {result}, \"\n",
        "      f\"Ожидаемый: {expected}, \"\n",
        "      f\"{'Пройден' if result == expected else 'Не пройден'}\")"
      ]
    },
    {
      "cell_type": "markdown",
      "metadata": {
        "id": "KeKgmIdAQMEJ"
      },
      "source": [
        "# Задача 8\n",
        "Функция принимает на вход положительное число и определяет является ли оно сбалансированным, т.е. сумма цифр до средних равна сумме цифр после. Средними в случае нечетного числа цифр считать одну цифру, в случае четного - две средних. Написать тесты для кода"
      ]
    },
    {
      "cell_type": "code",
      "execution_count": 2,
      "metadata": {
        "id": "gMAAqtqlQrZt"
      },
      "outputs": [
        {
          "name": "stdout",
          "output_type": "stream",
          "text": [
            "Результат теста 1: True, Ожидаемый: True, Пройден\n",
            "Результат теста 1: True, Ожидаемый: True, Пройден\n",
            "Результат теста 1: False, Ожидаемый: False, Пройден\n"
          ]
        }
      ],
      "source": [
        "def is_balanced(number):\n",
        "    number = str(number)\n",
        "    sum1 = 0\n",
        "    sum2 = 0\n",
        "    if len(number) % 2 != 0:\n",
        "        middle_index = (len(number) - 1) // 2\n",
        "        for index in range(0, middle_index):\n",
        "            sum1 += int(number[index])\n",
        "        for index in range(middle_index + 1, len(number)):\n",
        "            sum2 += int(number[index])\n",
        "        if sum1 == sum2:\n",
        "            return True\n",
        "        return False\n",
        "    else:\n",
        "        middle_index2 = len(number) // 2\n",
        "        middle_index1 = middle_index2 - 1\n",
        "        for index in range(0, middle_index1):\n",
        "            sum1 += int(number[index])\n",
        "        for index in range(middle_index2 + 1, len(number)):\n",
        "            sum2 += int(number[index])\n",
        "        if sum1 == sum2:\n",
        "            return True\n",
        "        return False\n",
        "\n",
        "# Тест 1: 9876987\n",
        "result = is_balanced(9876987)\n",
        "expected = True\n",
        "print(f\"Результат теста 1: {result}, \"\n",
        "      f\"Ожидаемый: {expected}, \"\n",
        "      f\"{'Пройден' if result == expected else 'Не пройден'}\")\n",
        "\n",
        "# Тест 2: 4764\n",
        "result = is_balanced(4764)\n",
        "expected = True\n",
        "print(f\"Результат теста 1: {result}, \"\n",
        "      f\"Ожидаемый: {expected}, \"\n",
        "      f\"{'Пройден' if result == expected else 'Не пройден'}\")\n",
        "\n",
        "# Тест 3: 5678987\n",
        "result = is_balanced(5678987)\n",
        "expected = False\n",
        "print(f\"Результат теста 1: {result}, \"\n",
        "      f\"Ожидаемый: {expected}, \"\n",
        "      f\"{'Пройден' if result == expected else 'Не пройден'}\")"
      ]
    }
  ],
  "metadata": {
    "colab": {
      "provenance": []
    },
    "kernelspec": {
      "display_name": "Python 3",
      "name": "python3"
    },
    "language_info": {
      "codemirror_mode": {
        "name": "ipython",
        "version": 3
      },
      "file_extension": ".py",
      "mimetype": "text/x-python",
      "name": "python",
      "nbconvert_exporter": "python",
      "pygments_lexer": "ipython3",
      "version": "3.11.4"
    }
  },
  "nbformat": 4,
  "nbformat_minor": 0
}
